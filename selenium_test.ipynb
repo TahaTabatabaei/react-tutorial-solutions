{
 "cells": [
  {
   "cell_type": "code",
   "execution_count": 2,
   "metadata": {},
   "outputs": [],
   "source": [
    "from selenium import webdriver\n",
    "from selenium.webdriver.common.keys import Keys\n",
    "import time\n",
    "driver = webdriver.Firefox()\n"
   ]
  },
  {
   "cell_type": "code",
   "execution_count": 3,
   "metadata": {},
   "outputs": [],
   "source": [
    "\n",
    "driver.get(\"http://localhost:3000/react-tutorial-solutions\")\n",
    "driver.maximize_window()\n",
    "# TODO: run by enter\n",
    "time.sleep(5)\n"
   ]
  },
  {
   "cell_type": "code",
   "execution_count": null,
   "metadata": {},
   "outputs": [],
   "source": [
    "\n",
    "# test win\n",
    "\n",
    "xPath = '/html/body/div/div/div[1]/div[1]/div/div[3]/button[2]'\n",
    "driver.find_element('xpath',xPath).click()\n",
    "xPath = '/html/body/div/div/div[1]/div[1]/div/div[2]/button[3]'\n",
    "driver.find_element('xpath',xPath).click()\n",
    "xPath = '/html/body/div/div/div[1]/div[1]/div/div[2]/button[2]'\n",
    "driver.find_element('xpath',xPath).click()\n",
    "xPath = '/html/body/div/div/div[1]/div[1]/div/div[1]/button[3]'\n",
    "driver.find_element('xpath',xPath).click()\n",
    "xPath = '/html/body/div/div/div[1]/div[1]/div/div[1]/button[2]'\n",
    "driver.find_element('xpath',xPath).click()\n",
    "\n",
    "xPath = '//*[@id=\"root\"]/div/div[1]/div[2]/h2'\n",
    "assert \"\\\"X\\\" is winner!\" in driver.find_element(\"xpath\", xPath).text\n",
    "print(\"success\")\n",
    "time.sleep(5)\n",
    "driver.close()"
   ]
  },
  {
   "cell_type": "code",
   "execution_count": 4,
   "metadata": {},
   "outputs": [
    {
     "name": "stdout",
     "output_type": "stream",
     "text": [
      "success\n"
     ]
    }
   ],
   "source": [
    "# test draw\n",
    "\n",
    "time.sleep(3)\n",
    "xPath = '/html/body/div/div/div[1]/div[1]/div/div[1]/button[1]'\n",
    "driver.find_element('xpath',xPath).click()\n",
    "xPath = '/html/body/div/div/div[1]/div[1]/div/div[1]/button[2]'\n",
    "driver.find_element('xpath',xPath).click()\n",
    "xPath = '/html/body/div/div/div[1]/div[1]/div/div[1]/button[3]'\n",
    "driver.find_element('xpath',xPath).click()\n",
    "xPath = '/html/body/div/div/div[1]/div[1]/div/div[2]/button[1]'\n",
    "driver.find_element('xpath',xPath).click()\n",
    "xPath = '/html/body/div/div/div[1]/div[1]/div/div[2]/button[2]'\n",
    "driver.find_element('xpath',xPath).click()\n",
    "xPath = '/html/body/div/div/div[1]/div[1]/div/div[3]/button[1]'\n",
    "driver.find_element('xpath',xPath).click()\n",
    "xPath = '/html/body/div/div/div[1]/div[1]/div/div[2]/button[3]'\n",
    "driver.find_element('xpath',xPath).click()\n",
    "xPath = '/html/body/div/div/div[1]/div[1]/div/div[3]/button[3]'\n",
    "driver.find_element('xpath',xPath).click()\n",
    "xPath = '/html/body/div/div/div[1]/div[1]/div/div[3]/button[2]'\n",
    "driver.find_element('xpath',xPath).click()\n",
    "\n",
    "xPath = '/html/body/div/div/div[1]/h2'\n",
    "assert \"Draw!\" in driver.find_element(\"xpath\", xPath).text\n",
    "print('success')\n"
   ]
  },
  {
   "cell_type": "code",
   "execution_count": 13,
   "metadata": {},
   "outputs": [
    {
     "name": "stdout",
     "output_type": "stream",
     "text": [
      "Reset button is visable\n"
     ]
    }
   ],
   "source": [
    "# reset\n",
    "time.sleep(3)\n",
    "xPath = '/html/body/div/div/div[1]/div[1]/div/div[1]/button[1]'\n",
    "driver.find_element('xpath',xPath).click()\n",
    "xPath = '/html/body/div/div/div[1]/div[1]/div/div[1]/button[2]'\n",
    "driver.find_element('xpath',xPath).click()\n",
    "xPath = '/html/body/div/div/div[1]/div[1]/div/div[1]/button[3]'\n",
    "driver.find_element('xpath',xPath).click()\n",
    "xPath = '/html/body/div/div/div[1]/div[1]/div/div[2]/button[1]'\n",
    "driver.find_element('xpath',xPath).click()\n",
    "\n",
    "\n",
    "xPath = '/html/body/div/div/div[1]/div[2]/button'\n",
    "assert \"Reset game\" in driver.find_element(\"xpath\", xPath).text\n",
    "assert driver.find_element(\"xpath\", xPath).is_displayed()\n",
    "print('Reset button is visable')\n",
    "\n",
    "\n",
    "\n"
   ]
  },
  {
   "cell_type": "code",
   "execution_count": 3,
   "metadata": {},
   "outputs": [
    {
     "name": "stdout",
     "output_type": "stream",
     "text": [
      "play again button is visable\n"
     ]
    }
   ],
   "source": [
    "# play again\n",
    "time.sleep(3)\n",
    "xPath = '/html/body/div/div/div[1]/div[1]/div/div[1]/button[1]'\n",
    "driver.find_element('xpath',xPath).click()\n",
    "xPath = '/html/body/div/div/div[1]/div[1]/div/div[1]/button[2]'\n",
    "driver.find_element('xpath',xPath).click()\n",
    "xPath = '/html/body/div/div/div[1]/div[1]/div/div[1]/button[3]'\n",
    "driver.find_element('xpath',xPath).click()\n",
    "xPath = '/html/body/div/div/div[1]/div[1]/div/div[2]/button[1]'\n",
    "driver.find_element('xpath',xPath).click()\n",
    "xPath = '/html/body/div/div/div[1]/div[1]/div/div[2]/button[2]'\n",
    "driver.find_element('xpath',xPath).click()\n",
    "xPath = '/html/body/div/div/div[1]/div[1]/div/div[3]/button[1]'\n",
    "driver.find_element('xpath',xPath).click()\n",
    "xPath = '/html/body/div/div/div[1]/div[1]/div/div[2]/button[3]'\n",
    "driver.find_element('xpath',xPath).click()\n",
    "xPath = '/html/body/div/div/div[1]/div[1]/div/div[3]/button[3]'\n",
    "driver.find_element('xpath',xPath).click()\n",
    "xPath = '/html/body/div/div/div[1]/div[1]/div/div[3]/button[2]'\n",
    "driver.find_element('xpath',xPath).click()\n",
    "\n",
    "\n",
    "xPath = '/html/body/div/div/div[1]/button'\n",
    "# driver.find_element('xpath',xPath).click()\n",
    "\n",
    "assert driver.find_element(\"xpath\", xPath).is_displayed()\n",
    "print('play again button is visable')"
   ]
  }
 ],
 "metadata": {
  "kernelspec": {
   "display_name": "Python 3",
   "language": "python",
   "name": "python3"
  },
  "language_info": {
   "codemirror_mode": {
    "name": "ipython",
    "version": 3
   },
   "file_extension": ".py",
   "mimetype": "text/x-python",
   "name": "python",
   "nbconvert_exporter": "python",
   "pygments_lexer": "ipython3",
   "version": "3.10.2"
  },
  "orig_nbformat": 4,
  "vscode": {
   "interpreter": {
    "hash": "d138ee4df375e66025d636822f618c5c0d3b0c70d03b3f5351c1d04343e1f86a"
   }
  }
 },
 "nbformat": 4,
 "nbformat_minor": 2
}
